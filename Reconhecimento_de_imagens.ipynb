{
 "cells": [
  {
   "cell_type": "code",
   "execution_count": 7,
   "metadata": {},
   "outputs": [],
   "source": [
    "import tweepy as tw\n",
    "\n",
    "consume_key = '4TVv2BJTz6oPnBpkwgJNLU1a7'\n",
    "consumer_secret = 'UjLu7lfe48QzRWCJpfWwVWUR68NQ5JT2lJHUSuUOERzVMkleIT'\n",
    "access_token = '1660797568400478209-j8LcqxQCqOr7dBwXxu6DS4EwVLhhp9'\n",
    "access_token_secret = 'vPgsJ7dV4HoMq3qytxjJpPCChv9hHtXy6Q0bzoWBiyrfK'"
   ]
  },
  {
   "cell_type": "code",
   "execution_count": 11,
   "metadata": {},
   "outputs": [],
   "source": [
    "auth = tw.OAuthHandler(client_id, client_secret)\n",
    "auth.set_access_token(access_token, access_token_secret)\n",
    "api = tw.API(auth)"
   ]
  },
  {
   "cell_type": "code",
   "execution_count": null,
   "metadata": {},
   "outputs": [],
   "source": [
    "tweet = api.update_status('Python e Twitter na #Alura')"
   ]
  },
  {
   "cell_type": "code",
   "execution_count": null,
   "metadata": {},
   "outputs": [],
   "source": [
    "tweet = api.update_status(\"Python e Twitter na #Alura\")"
   ]
  },
  {
   "cell_type": "code",
   "execution_count": null,
   "metadata": {},
   "outputs": [],
   "source": [
    "tweet._json"
   ]
  },
  {
   "cell_type": "code",
   "execution_count": null,
   "metadata": {},
   "outputs": [],
   "source": [
    "tweets = tw.Cursor(api.search,\n",
    "         q=\"data science\",\n",
    "         since='2019-01-01',\n",
    "         lang='pt').items(10)"
   ]
  },
  {
   "cell_type": "code",
   "execution_count": null,
   "metadata": {},
   "outputs": [],
   "source": [
    "for tweeet in tweets:\n",
    "  print(tweet.text)"
   ]
  },
  {
   "cell_type": "code",
   "execution_count": null,
   "metadata": {},
   "outputs": [],
   "source": [
    "tweets = tw.Cursor(api.search,\n",
    "         q=\"python\",\n",
    "         since='2019-01-01',\n",
    "         lang='pt').items(20)"
   ]
  },
  {
   "cell_type": "code",
   "execution_count": null,
   "metadata": {},
   "outputs": [],
   "source": [
    "for tweet in tweets:\n",
    "  print(tweet.user.screen_name)\n",
    "  print(tweet.user.location)\n",
    "  print('-----')\n",
    "  print('\\n')"
   ]
  },
  {
   "cell_type": "code",
   "execution_count": null,
   "metadata": {},
   "outputs": [],
   "source": [
    "famosos = ['cauareymond','aguiarthur','ivetesangalo','ClaudiaLeitte','neymarjr','BruMarquezine','mariruybarbosa',\n",
    "'FePaesLeme','Tatawerneck','FlaviaAleReal','julianapaes','dedesecco','SabrinaSato','ahickmann','gusttavo_lima','Anitta',\n",
    "'CarolCastroReal','gio_antonelli','maisa','cleooficial','gewbank','taisdeverdade','otaviano','bernardipaloma',\n",
    "'IngridGuimaraes','olazaroramos','GalisteuOficial','debranascimento','FioMattheis','moalfradique','Nandacostareal']"
   ]
  },
  {
   "cell_type": "code",
   "execution_count": null,
   "metadata": {},
   "outputs": [],
   "source": [
    "len(famosos)"
   ]
  },
  {
   "cell_type": "code",
   "execution_count": null,
   "metadata": {},
   "outputs": [],
   "source": [
    "for famoso in famosos:\n",
    "  tweets = tw.Cursor(api.search,\n",
    "         q=famoso,\n",
    "         since='2019-01-01').items(20)\n",
    "  print('Autor: ', famoso)\n",
    "  print('Imagens postadas:')\n",
    "  \n",
    "  for tweet in tweets:\n",
    "    if 'media' in tweet.entities:\n",
    "      print(tweet.entities['media'][0]['media_url'])\n",
    "      \n",
    "  print('-----')\n",
    "  print('\\n')"
   ]
  },
  {
   "cell_type": "code",
   "execution_count": null,
   "metadata": {},
   "outputs": [],
   "source": [
    "class MinhaStreamListener(tw.StreamListener):\n",
    "  \n",
    "  def on_status(self, status):\n",
    "    print(status.user.screen_name)\n",
    "    print(status.text)\n",
    "    print('-----')\n",
    "    print('\\n')"
   ]
  },
  {
   "cell_type": "code",
   "execution_count": null,
   "metadata": {},
   "outputs": [],
   "source": [
    "minhaStream = tw.Stream(auth = auth, listener=MinhaStreamListener())"
   ]
  },
  {
   "cell_type": "code",
   "execution_count": null,
   "metadata": {},
   "outputs": [],
   "source": [
    "minhaStream.filter(track=famosos)"
   ]
  },
  {
   "cell_type": "code",
   "execution_count": null,
   "metadata": {},
   "outputs": [],
   "source": [
    "!pip install azure-cognitiveservices-vision-computervision"
   ]
  },
  {
   "cell_type": "code",
   "execution_count": null,
   "metadata": {},
   "outputs": [],
   "source": [
    "from azure.cognitiveservices.vision.computervision import ComputerVisionClient\n",
    "from msrest.authentication import CognitiveServicesCredentials\n",
    "\n",
    "credenciais = CognitiveServicesCredentials(\"231d28866f4f4f8085291bd649922c23\")\n",
    "client = ComputerVisionClient(\"https://westcentralus.api.cognitive.microsoft.com\",credenciais)\n",
    "client.api_version"
   ]
  },
  {
   "cell_type": "code",
   "execution_count": null,
   "metadata": {},
   "outputs": [],
   "source": [
    "from azure.cognitiveservices.vision.computervision.models import VisualFeatureTypes\n",
    "\n",
    "url = \"http://pbs.twimg.com/media/ECx6hK-WwAAPzeE.jpg\"\n",
    "\n",
    "analize_de_imagem = client.analyze_image(url,VisualFeatureTypes.tags)"
   ]
  },
  {
   "cell_type": "code",
   "execution_count": null,
   "metadata": {},
   "outputs": [],
   "source": [
    "for tag in analize_de_imagem.tags:\n",
    "  print(tag)"
   ]
  },
  {
   "cell_type": "code",
   "execution_count": null,
   "metadata": {},
   "outputs": [],
   "source": [
    "analise_celebridades = client.analyze_image_by_domain(\"celebrities\", url, \"en\")"
   ]
  },
  {
   "cell_type": "code",
   "execution_count": null,
   "metadata": {},
   "outputs": [],
   "source": [
    "for celebridade in analise_celebridades.result[\"celebrities\"]:\n",
    "  print(celebridade['name'])\n",
    "  print(celebridade['confidence'])"
   ]
  },
  {
   "cell_type": "code",
   "execution_count": null,
   "metadata": {},
   "outputs": [],
   "source": [
    "analise_celebridades.result[\"celebrities\"]"
   ]
  },
  {
   "cell_type": "code",
   "execution_count": null,
   "metadata": {},
   "outputs": [],
   "source": [
    "descricao = client.describe_image(url,3,\"en\")"
   ]
  },
  {
   "cell_type": "code",
   "execution_count": null,
   "metadata": {},
   "outputs": [],
   "source": [
    "for caption in descricao.captions:\n",
    "  print(caption.text)\n",
    "  print(caption.confidence)"
   ]
  },
  {
   "cell_type": "code",
   "execution_count": null,
   "metadata": {},
   "outputs": [],
   "source": [
    "descricao.captions[0].text"
   ]
  },
  {
   "cell_type": "code",
   "execution_count": null,
   "metadata": {},
   "outputs": [],
   "source": [
    "api.get_user('jcalvesol').id_str"
   ]
  },
  {
   "cell_type": "code",
   "execution_count": null,
   "metadata": {},
   "outputs": [],
   "source": [
    "famosos_id = []\n",
    "\n",
    "for famoso in famosos:\n",
    "  famoso_id = api.get_user(famoso).id_str\n",
    "  famosos_id.append(famoso_id)"
   ]
  },
  {
   "cell_type": "code",
   "execution_count": null,
   "metadata": {},
   "outputs": [],
   "source": [
    "import json"
   ]
  },
  {
   "cell_type": "code",
   "execution_count": null,
   "metadata": {},
   "outputs": [],
   "source": [
    "class MinhaStreamListener(tw.StreamListener):\n",
    "  \n",
    "  def on_status(self, status):\n",
    "    print(\"Usuário:\" , status.user.screen_name)\n",
    "    print(\"Texto:\" ,status.text)\n",
    "    \n",
    "    if 'media' in status.entities:\n",
    "      url = status.entities['media'][0]['media_url']\n",
    "      print(\"URL: \", url)\n",
    "      \n",
    "      analise_celebridades = client.analyze_image_by_domain(\"celebrities\", url, \"en\")\n",
    "      lista_celebridades = [celebridade['name'] for celebridade in analise_celebridades.result[\"celebrities\"]]\n",
    "      print(lista_celebridades)\n",
    "      \n",
    "      descricao = client.describe_image(url,1,\"en\")\n",
    "      texto_descricao = descricao.captions[0].text\n",
    "      print(\"Descricao: \", texto_descricao)\n",
    "      \n",
    "      analize_de_imagem = client.analyze_image(url,VisualFeatureTypes.tags)\n",
    "      lista_tags = [tag.name for tag in analize_de_imagem.tags]\n",
    "      print(\"Tag: \", lista_tags)\n",
    "      \n",
    "      resultados = {\n",
    "          'usuario': status.user.screen_name,\n",
    "          'texto': status.text,\n",
    "          'url': url,\n",
    "          'celebridades': lista_celebridades,\n",
    "          'descricao': texto_descricao,\n",
    "          'tags': lista_tags\n",
    "      }\n",
    "      \n",
    "      with open('tweets.txt','a') as arquivo:\n",
    "        arquivo.write(json.dumps(resultados))\n",
    "        arquivo.write('\\n')\n",
    "      \n",
    "      \n",
    "    \n",
    "    print('-----')\n",
    "    print('\\n')"
   ]
  },
  {
   "cell_type": "code",
   "execution_count": null,
   "metadata": {},
   "outputs": [],
   "source": [
    "minhaStream = None"
   ]
  },
  {
   "cell_type": "code",
   "execution_count": null,
   "metadata": {},
   "outputs": [],
   "source": [
    "minhaStream = tw.Stream(auth = auth, listener=MinhaStreamListener())"
   ]
  },
  {
   "cell_type": "code",
   "execution_count": null,
   "metadata": {},
   "outputs": [],
   "source": [
    "minhaStream.filter(follow=famosos_id)"
   ]
  },
  {
   "cell_type": "code",
   "execution_count": null,
   "metadata": {},
   "outputs": [],
   "source": [
    "lista_arquivo = []\n",
    "\n",
    "with open(\"tweets.txt\", 'r') as arquivo:\n",
    "  for linha in arquivo:\n",
    "    lista_arquivo.append(json.loads(linha))"
   ]
  },
  {
   "cell_type": "code",
   "execution_count": null,
   "metadata": {},
   "outputs": [],
   "source": [
    "lista_arquivo[0]"
   ]
  },
  {
   "cell_type": "code",
   "execution_count": null,
   "metadata": {},
   "outputs": [],
   "source": [
    "import pandas as pd"
   ]
  },
  {
   "cell_type": "code",
   "execution_count": null,
   "metadata": {},
   "outputs": [],
   "source": [
    "imagens = pd.DataFrame(lista_arquivo)"
   ]
  },
  {
   "cell_type": "code",
   "execution_count": null,
   "metadata": {},
   "outputs": [],
   "source": [
    "imagens.head()"
   ]
  },
  {
   "cell_type": "code",
   "execution_count": null,
   "metadata": {},
   "outputs": [],
   "source": [
    "imagens[achados].descricao.iloc[0]"
   ]
  },
  {
   "cell_type": "code",
   "execution_count": null,
   "metadata": {},
   "outputs": [],
   "source": [
    "imagens[achados].tags.iloc[0]"
   ]
  },
  {
   "cell_type": "code",
   "execution_count": null,
   "metadata": {},
   "outputs": [],
   "source": [
    "imagens[achados].url.iloc[0]"
   ]
  }
 ],
 "metadata": {
  "kernelspec": {
   "display_name": "base",
   "language": "python",
   "name": "python3"
  },
  "language_info": {
   "codemirror_mode": {
    "name": "ipython",
    "version": 3
   },
   "file_extension": ".py",
   "mimetype": "text/x-python",
   "name": "python",
   "nbconvert_exporter": "python",
   "pygments_lexer": "ipython3",
   "version": "3.9.7"
  },
  "orig_nbformat": 4
 },
 "nbformat": 4,
 "nbformat_minor": 2
}
